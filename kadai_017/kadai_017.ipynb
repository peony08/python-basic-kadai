{
  "nbformat": 4,
  "nbformat_minor": 0,
  "metadata": {
    "colab": {
      "provenance": []
    },
    "kernelspec": {
      "name": "python3",
      "display_name": "Python 3"
    },
    "language_info": {
      "name": "python"
    }
  },
  "cells": [
    {
      "cell_type": "code",
      "execution_count": null,
      "metadata": {
        "id": "ZUAYmUXL-3mH"
      },
      "outputs": [],
      "source": [
        "class Human\n",
        " def __init__(self,name,age):\n",
        "    self.name = name\n",
        "    self.age = age\n",
        ""
      ]
    },
    {
      "cell_type": "code",
      "source": [
        "class Human:\n",
        "    def __init__(self,name,age):\n",
        "      self.name = name\n",
        "      self.age = age\n",
        "    def check_adult(self):\n",
        "     if self.age >= 20:\n",
        "      print(f\"{self.name}さんは大人です。\")\n",
        "     else:\n",
        "      print(f\"{self.name}さんは大人ではありません。\")\n",
        "humans = [Human(\"太郎\",22),Human(\"花子\",30),Human(\"健\",18)]\n",
        "for person in humans:\n",
        "    person.check_adult()\n"
      ],
      "metadata": {
        "colab": {
          "base_uri": "https://localhost:8080/"
        },
        "id": "YkMpHh-aBJ6f",
        "outputId": "725491f9-e626-4ce6-bbe0-7e343e979199"
      },
      "execution_count": 2,
      "outputs": [
        {
          "output_type": "stream",
          "name": "stdout",
          "text": [
            "太郎さんは大人です。\n",
            "花子さんは大人です。\n",
            "健さんは大人ではありません。\n"
          ]
        }
      ]
    }
  ]
}