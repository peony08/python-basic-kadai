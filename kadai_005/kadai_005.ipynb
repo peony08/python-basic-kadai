{
  "nbformat": 4,
  "nbformat_minor": 0,
  "metadata": {
    "colab": {
      "provenance": []
    },
    "kernelspec": {
      "name": "python3",
      "display_name": "Python 3"
    },
    "language_info": {
      "name": "python"
    }
  },
  "cells": [
    {
      "cell_type": "code",
      "execution_count": null,
      "metadata": {
        "colab": {
          "base_uri": "https://localhost:8080/"
        },
        "id": "s9boMQIIw8xx",
        "outputId": "959d3490-5a59-4bf2-95a3-c1bc5ea85ec6"
      },
      "outputs": [
        {
          "output_type": "stream",
          "name": "stdout",
          "text": [
            "3\n"
          ]
        }
      ],
      "source": [
        "print(1+2)"
      ]
    },
    {
      "cell_type": "code",
      "source": [
        "print(1+9+10)"
      ],
      "metadata": {
        "colab": {
          "base_uri": "https://localhost:8080/"
        },
        "id": "j30iHN94rp38",
        "outputId": "90a93aa2-a553-4dc8-f7cd-129ba62139f6"
      },
      "execution_count": null,
      "outputs": [
        {
          "output_type": "stream",
          "name": "stdout",
          "text": [
            "20\n"
          ]
        }
      ]
    },
    {
      "cell_type": "markdown",
      "source": [],
      "metadata": {
        "id": "OiAxQaWUrs3v"
      }
    },
    {
      "cell_type": "code",
      "source": [
        "print(1+4)"
      ],
      "metadata": {
        "colab": {
          "base_uri": "https://localhost:8080/"
        },
        "id": "K-4OqDn4yDns",
        "outputId": "270b8cf5-4f6b-47fa-f96d-e9ffe7eca903"
      },
      "execution_count": null,
      "outputs": [
        {
          "output_type": "stream",
          "name": "stdout",
          "text": [
            "5\n"
          ]
        }
      ]
    },
    {
      "cell_type": "code",
      "source": [
        "print(8+9)"
      ],
      "metadata": {
        "colab": {
          "base_uri": "https://localhost:8080/"
        },
        "id": "zY5n4E_iyVuH",
        "outputId": "37728021-6aa1-4ef3-a698-068218266658"
      },
      "execution_count": null,
      "outputs": [
        {
          "output_type": "stream",
          "name": "stdout",
          "text": [
            "17\n"
          ]
        }
      ]
    },
    {
      "cell_type": "code",
      "source": [
        "age = 18 # 年齢\n",
        "\n",
        "if age < 20:\n",
        "    # 未成年の場合\n",
        "    print(\"ジュースで乾杯！\")\n",
        "\n",
        "\n",
        "else:\n",
        "\n",
        "    #  成年の場合\n",
        "\n",
        "    print(\"お酒で乾杯！\")"
      ],
      "metadata": {
        "colab": {
          "base_uri": "https://localhost:8080/"
        },
        "id": "Z5QVQPbG0ag9",
        "outputId": "971333f6-d1d6-4beb-9373-290260caaf5c"
      },
      "execution_count": null,
      "outputs": [
        {
          "output_type": "stream",
          "name": "stdout",
          "text": [
            "お酒で乾杯！\n"
          ]
        }
      ]
    },
    {
      "cell_type": "code",
      "source": [
        "user_name = \"侍太郎\"\n",
        "print(user_name)\n",
        "\n",
        "user_name = \"侍花子\"\n",
        "print(user_name)"
      ],
      "metadata": {
        "colab": {
          "base_uri": "https://localhost:8080/"
        },
        "id": "Z1J75VqLznkT",
        "outputId": "b1cb450a-9ec3-413d-c9c9-95ffbe02daf5"
      },
      "execution_count": null,
      "outputs": [
        {
          "output_type": "stream",
          "name": "stdout",
          "text": [
            "侍太郎\n",
            "侍花子\n"
          ]
        }
      ]
    },
    {
      "cell_type": "code",
      "source": [
        "# 整数型と浮動小数点型の足し算\n",
        "number1 = 5\n",
        "number2 = 2.5\n",
        "print(number1 + number2)\n",
        "\n",
        "# 文字列型と文字列型の連結\n",
        "last_name  = \"侍\"\n",
        "first_name = \"太郎\"\n",
        "print(last_name + first_name)"
      ],
      "metadata": {
        "colab": {
          "base_uri": "https://localhost:8080/"
        },
        "id": "vKA1Q3xt0BYx",
        "outputId": "f23f09bf-5916-456d-9a49-80fba58c6906"
      },
      "execution_count": null,
      "outputs": [
        {
          "output_type": "stream",
          "name": "stdout",
          "text": [
            "7.5\n",
            "侍太郎\n"
          ]
        }
      ]
    },
    {
      "cell_type": "code",
      "source": [
        "last_name   = \"侍\"\n",
        "first_name  = \"太郎\"\n",
        "sister_name = \"花子\"\n",
        "\n",
        "# 3つの変数を文字列内に埋め込んで表示\n",
        "print(f\"私の名前は{last_name}{first_name}です。妹の名前は{sister_name}です。\")"
      ],
      "metadata": {
        "colab": {
          "base_uri": "https://localhost:8080/"
        },
        "id": "yjfJDHMj0dQX",
        "outputId": "1710b8ff-b41d-4474-f5cd-9aea91330c5e"
      },
      "execution_count": null,
      "outputs": [
        {
          "output_type": "stream",
          "name": "stdout",
          "text": [
            "私の名前は侍太郎です。妹の名前は花子です。\n"
          ]
        }
      ]
    },
    {
      "cell_type": "code",
      "source": [
        "user_names = [\"いちこ\", \"ふみ\", \"みちこ\", \"よしこ\", \"いくこ\"]\n",
        "print(user_names[1])\n",
        "print(user_names[2:4])\n",
        "print(user_names[:1])\n",
        "\n",
        "user_ages  = [36, 33, 29, 25, 22]"
      ],
      "metadata": {
        "colab": {
          "base_uri": "https://localhost:8080/"
        },
        "id": "vaDKNw9PIiQR",
        "outputId": "2390aa22-57b8-4823-dd25-2b11c279961f"
      },
      "execution_count": null,
      "outputs": [
        {
          "output_type": "stream",
          "name": "stdout",
          "text": [
            "ふみ\n",
            "['みちこ', 'よしこ']\n",
            "['いちこ']\n"
          ]
        }
      ]
    },
    {
      "cell_type": "code",
      "source": [
        "a = (\"かとうゆうま\")\n",
        "print(a[:6])"
      ],
      "metadata": {
        "colab": {
          "base_uri": "https://localhost:8080/"
        },
        "id": "vYKDYfk7HjEk",
        "outputId": "0c951295-ad44-40fc-d2f0-5b0cd0746a6d"
      },
      "execution_count": null,
      "outputs": [
        {
          "output_type": "stream",
          "name": "stdout",
          "text": [
            "かとうゆうま\n"
          ]
        }
      ]
    },
    {
      "cell_type": "code",
      "source": [
        "num1 = 1\n",
        "num2 = 2\n",
        "print(num1 + num2)\n",
        "print(f\"{num1} + {num2}\")"
      ],
      "metadata": {
        "colab": {
          "base_uri": "https://localhost:8080/",
          "height": 193
        },
        "id": "L5aHWvOQTd5w",
        "outputId": "fbd0a951-c444-483b-8106-98f2c490bdb8"
      },
      "execution_count": null,
      "outputs": [
        {
          "output_type": "error",
          "ename": "TypeError",
          "evalue": "'int' object is not callable",
          "traceback": [
            "\u001b[0;31m---------------------------------------------------------------------------\u001b[0m",
            "\u001b[0;31mTypeError\u001b[0m                                 Traceback (most recent call last)",
            "\u001b[0;32m/tmp/ipython-input-1468997365.py\u001b[0m in \u001b[0;36m<cell line: 0>\u001b[0;34m()\u001b[0m\n\u001b[1;32m      1\u001b[0m \u001b[0mnum1\u001b[0m \u001b[0;34m=\u001b[0m \u001b[0;36m1\u001b[0m\u001b[0;34m\u001b[0m\u001b[0;34m\u001b[0m\u001b[0m\n\u001b[1;32m      2\u001b[0m \u001b[0mnum2\u001b[0m \u001b[0;34m=\u001b[0m \u001b[0;36m2\u001b[0m\u001b[0;34m\u001b[0m\u001b[0;34m\u001b[0m\u001b[0m\n\u001b[0;32m----> 3\u001b[0;31m \u001b[0mprint\u001b[0m\u001b[0;34m(\u001b[0m\u001b[0mnum1\u001b[0m \u001b[0;34m+\u001b[0m \u001b[0mnum2\u001b[0m\u001b[0;34m)\u001b[0m\u001b[0;34m\u001b[0m\u001b[0;34m\u001b[0m\u001b[0m\n\u001b[0m\u001b[1;32m      4\u001b[0m \u001b[0mprint\u001b[0m\u001b[0;34m(\u001b[0m\u001b[0;34mf\"{num1} + {num2}\"\u001b[0m\u001b[0;34m)\u001b[0m\u001b[0;34m\u001b[0m\u001b[0;34m\u001b[0m\u001b[0m\n",
            "\u001b[0;31mTypeError\u001b[0m: 'int' object is not callable"
          ]
        }
      ]
    },
    {
      "cell_type": "code",
      "source": [
        "print(\"今日の天気は\"+\"晴れ\")\n",
        "print(\"今日の天気は\"\"曇り\")\n"
      ],
      "metadata": {
        "colab": {
          "base_uri": "https://localhost:8080/"
        },
        "id": "HxFXd0-sdE1x",
        "outputId": "716ec812-5f11-44a4-fe2a-cfa6acda5a20"
      },
      "execution_count": null,
      "outputs": [
        {
          "output_type": "stream",
          "name": "stdout",
          "text": [
            "今日の天気は晴れ\n",
            "今日の天気は曇り\n"
          ]
        }
      ]
    },
    {
      "cell_type": "code",
      "source": [
        "top = 10\n",
        "base = 20\n",
        "print(top + base)"
      ],
      "metadata": {
        "colab": {
          "base_uri": "https://localhost:8080/"
        },
        "id": "cEPWe8Q3vcF6",
        "outputId": "0df4dc3a-54a6-4684-e98c-21abf4f02d2e"
      },
      "execution_count": null,
      "outputs": [
        {
          "output_type": "stream",
          "name": "stdout",
          "text": [
            "30\n"
          ]
        }
      ]
    },
    {
      "cell_type": "code",
      "source": [
        "t = 10\n",
        "b = 20\n",
        "h = 5\n",
        "area = (t + b) * h / 2\n",
        "print(f\"{area}cm^2\")"
      ],
      "metadata": {
        "colab": {
          "base_uri": "https://localhost:8080/"
        },
        "id": "2boBzBXSwFE8",
        "outputId": "c04402d3-a4ff-4b96-bd14-676b309300c4"
      },
      "execution_count": null,
      "outputs": [
        {
          "output_type": "stream",
          "name": "stdout",
          "text": [
            "75.0㎝^2\n"
          ]
        }
      ]
    },
    {
      "cell_type": "code",
      "source": [
        "area = 75.0\n",
        "print(f\"台形の面積: {area} cm^2\")  # ASCII表記\n"
      ],
      "metadata": {
        "colab": {
          "base_uri": "https://localhost:8080/"
        },
        "id": "IC0YEhczzXpC",
        "outputId": "468f17ce-261f-4038-8d74-3e1347a721cd"
      },
      "execution_count": null,
      "outputs": [
        {
          "output_type": "stream",
          "name": "stdout",
          "text": [
            "台形の面積: 75.0 cm^2\n"
          ]
        }
      ]
    },
    {
      "cell_type": "code",
      "source": [
        "area = 75\n",
        "print(f\"台形の面積:{area} cm\\u00B2\")https://chatgpt.com/?openaicom_referred=true\n",
        "\n"
      ],
      "metadata": {
        "colab": {
          "base_uri": "https://localhost:8080/"
        },
        "id": "UwZ-BRbm09BE",
        "outputId": "c43f6238-a675-487a-ed01-9fb0a8e3679c"
      },
      "execution_count": null,
      "outputs": [
        {
          "output_type": "stream",
          "name": "stdout",
          "text": [
            "台形の面積:75 cm²\n"
          ]
        }
      ]
    },
    {
      "cell_type": "code",
      "source": [
        "top = 10\n",
        "base = 20\n",
        "height = 5\n",
        "area = (top + base) * height / 2\n",
        "print(f\"台形の面積:{area}cm\\u00B2\")"
      ],
      "metadata": {
        "colab": {
          "base_uri": "https://localhost:8080/"
        },
        "id": "Yyj-ymFK2irt",
        "outputId": "b034b482-755c-47d2-ca87-5c415a41d3cd"
      },
      "execution_count": null,
      "outputs": [
        {
          "output_type": "stream",
          "name": "stdout",
          "text": [
            "台形の面積:75.0cm²\n"
          ]
        }
      ]
    },
    {
      "cell_type": "code",
      "source": [],
      "metadata": {
        "id": "L3RzeOYVbjlw"
      },
      "execution_count": null,
      "outputs": []
    }
  ]
}