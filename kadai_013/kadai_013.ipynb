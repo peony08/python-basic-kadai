{
  "nbformat": 4,
  "nbformat_minor": 0,
  "metadata": {
    "colab": {
      "provenance": []
    },
    "kernelspec": {
      "name": "python3",
      "display_name": "Python 3"
    },
    "language_info": {
      "name": "python"
    }
  },
  "cells": [
    {
      "cell_type": "code",
      "execution_count": 1,
      "metadata": {
        "id": "9HHd-ouM9DDm",
        "outputId": "39941b83-db73-480a-ef24-c8ba1fa0285d",
        "colab": {
          "base_uri": "https://localhost:8080/"
        }
      },
      "outputs": [
        {
          "output_type": "stream",
          "name": "stdout",
          "text": [
            "税込価格1: 121.00000000000001円\n",
            "税込価格2: 359.64000000000004円\n"
          ]
        }
      ],
      "source": [
        "def calculate_total(price: float, tax_rate: float) -> float:\n",
        "    \"\"\"\n",
        "    商品の金額と消費税率から税込価格を計算して返す関数\n",
        "\n",
        "    :param price: 商品の金額\n",
        "    :param tax_rate: 消費税率（%で指定, 例: 10 = 10%）\n",
        "    :return: 税込価格（小数点が含まれる場合はそのまま）\n",
        "    \"\"\"\n",
        "    return price * (1 + tax_rate / 100)\n",
        "\n",
        "\n",
        "# --- 動作確認 ---\n",
        "result1 = calculate_total(110, 10)   # 110円に10%の消費税\n",
        "result2 = calculate_total(333, 8)    # 333円に8%の消費税\n",
        "\n",
        "print(f\"税込価格1: {result1}円\")  # 121.0円\n",
        "print(f\"税込価格2: {result2}円\")  # 359.64円\n"
      ]
    }
  ]
}