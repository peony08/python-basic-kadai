{
  "nbformat": 4,
  "nbformat_minor": 0,
  "metadata": {
    "colab": {
      "provenance": []
    },
    "kernelspec": {
      "name": "python3",
      "display_name": "Python 3"
    },
    "language_info": {
      "name": "python"
    }
  },
  "cells": [
    {
      "cell_type": "code",
      "execution_count": null,
      "metadata": {
        "colab": {
          "base_uri": "https://localhost:8080/"
        },
        "id": "s9boMQIIw8xx",
        "outputId": "959d3490-5a59-4bf2-95a3-c1bc5ea85ec6"
      },
      "outputs": [
        {
          "output_type": "stream",
          "name": "stdout",
          "text": [
            "3\n"
          ]
        }
      ],
      "source": [
        "print(1+2)"
      ]
    },
    {
      "cell_type": "code",
      "source": [
        "print(1+9+10)"
      ],
      "metadata": {
        "colab": {
          "base_uri": "https://localhost:8080/"
        },
        "id": "j30iHN94rp38",
        "outputId": "90a93aa2-a553-4dc8-f7cd-129ba62139f6"
      },
      "execution_count": null,
      "outputs": [
        {
          "output_type": "stream",
          "name": "stdout",
          "text": [
            "20\n"
          ]
        }
      ]
    },
    {
      "cell_type": "markdown",
      "source": [
        "# 新しいセクション"
      ],
      "metadata": {
        "id": "UgdIN5KNAgAs"
      }
    },
    {
      "cell_type": "code",
      "source": [],
      "metadata": {
        "id": "GWRzWCgcAo_2"
      },
      "execution_count": null,
      "outputs": []
    },
    {
      "cell_type": "code",
      "source": [],
      "metadata": {
        "id": "uupD2JuilUuH"
      },
      "execution_count": null,
      "outputs": []
    },
    {
      "cell_type": "code",
      "source": [
        "print(45 + 18) # 算術演算子を使った場合の戻り値を出力する\n",
        "print(45 > 18) # 比較演算子を使った場合の戻り値を出力する"
      ],
      "metadata": {
        "colab": {
          "base_uri": "https://localhost:8080/"
        },
        "id": "M0dksVm3_MNR",
        "outputId": "d6138ecb-80e4-4f77-9ec0-821d7af3f9ff"
      },
      "execution_count": null,
      "outputs": [
        {
          "output_type": "stream",
          "name": "stdout",
          "text": [
            "63\n",
            "True\n"
          ]
        }
      ]
    },
    {
      "cell_type": "code",
      "source": [
        "num = 2\n",
        "\n",
        "# 変数numが10より大きいなら、文字列を出力する\n",
        "if 10 < num:\n",
        "    print(\"変数numは10より大きいです\")\n",
        "\n",
        "# 変数numが20より小さいなら、文字列を出力する\n",
        "if num < 20:\n",
        "    print(\"変数numは20より小さいです\")\n"
      ],
      "metadata": {
        "colab": {
          "base_uri": "https://localhost:8080/"
        },
        "id": "eqf2hyVn-wOh",
        "outputId": "16a94cec-bb70-4685-c08d-83a04c6ca5b4"
      },
      "execution_count": null,
      "outputs": [
        {
          "output_type": "stream",
          "name": "stdout",
          "text": [
            "変数numは20より小さいです\n"
          ]
        }
      ]
    },
    {
      "cell_type": "code",
      "source": [],
      "metadata": {
        "id": "x-11-3NXAHYh"
      },
      "execution_count": null,
      "outputs": []
    },
    {
      "cell_type": "code",
      "source": [],
      "metadata": {
        "id": "6GW4ePpEAIcw"
      },
      "execution_count": null,
      "outputs": []
    },
    {
      "cell_type": "code",
      "source": [],
      "metadata": {
        "id": "HpdaS559AI8I"
      },
      "execution_count": null,
      "outputs": []
    },
    {
      "cell_type": "markdown",
      "source": [],
      "metadata": {
        "id": "OiAxQaWUrs3v"
      }
    },
    {
      "cell_type": "code",
      "source": [
        "print(1+4)"
      ],
      "metadata": {
        "colab": {
          "base_uri": "https://localhost:8080/"
        },
        "id": "K-4OqDn4yDns",
        "outputId": "270b8cf5-4f6b-47fa-f96d-e9ffe7eca903"
      },
      "execution_count": null,
      "outputs": [
        {
          "output_type": "stream",
          "name": "stdout",
          "text": [
            "5\n"
          ]
        }
      ]
    },
    {
      "cell_type": "code",
      "source": [
        "print(8+9)"
      ],
      "metadata": {
        "colab": {
          "base_uri": "https://localhost:8080/"
        },
        "id": "zY5n4E_iyVuH",
        "outputId": "37728021-6aa1-4ef3-a698-068218266658"
      },
      "execution_count": null,
      "outputs": [
        {
          "output_type": "stream",
          "name": "stdout",
          "text": [
            "17\n"
          ]
        }
      ]
    },
    {
      "cell_type": "code",
      "source": [
        "age = 18 # 年齢\n",
        "\n",
        "if age < 20:\n",
        "    # 未成年の場合\n",
        "    print(\"ジュースで乾杯！\")\n",
        "\n",
        "\n",
        "else:\n",
        "\n",
        "    #  成年の場合\n",
        "\n",
        "    print(\"お酒で乾杯！\")"
      ],
      "metadata": {
        "colab": {
          "base_uri": "https://localhost:8080/"
        },
        "id": "Z5QVQPbG0ag9",
        "outputId": "971333f6-d1d6-4beb-9373-290260caaf5c"
      },
      "execution_count": null,
      "outputs": [
        {
          "output_type": "stream",
          "name": "stdout",
          "text": [
            "お酒で乾杯！\n"
          ]
        }
      ]
    },
    {
      "cell_type": "code",
      "source": [
        "user_name = \"侍太郎\"\n",
        "print(user_name)\n",
        "\n",
        "user_name = \"侍花子\"\n",
        "print(user_name)"
      ],
      "metadata": {
        "colab": {
          "base_uri": "https://localhost:8080/"
        },
        "id": "Z1J75VqLznkT",
        "outputId": "b1cb450a-9ec3-413d-c9c9-95ffbe02daf5"
      },
      "execution_count": null,
      "outputs": [
        {
          "output_type": "stream",
          "name": "stdout",
          "text": [
            "侍太郎\n",
            "侍花子\n"
          ]
        }
      ]
    },
    {
      "cell_type": "code",
      "source": [
        "# 整数型と浮動小数点型の足し算\n",
        "number1 = 5\n",
        "number2 = 2.5\n",
        "print(number1 + number2)\n",
        "\n",
        "# 文字列型と文字列型の連結\n",
        "last_name  = \"侍\"\n",
        "first_name = \"太郎\"\n",
        "print(last_name + first_name)"
      ],
      "metadata": {
        "colab": {
          "base_uri": "https://localhost:8080/"
        },
        "id": "vKA1Q3xt0BYx",
        "outputId": "f23f09bf-5916-456d-9a49-80fba58c6906"
      },
      "execution_count": null,
      "outputs": [
        {
          "output_type": "stream",
          "name": "stdout",
          "text": [
            "7.5\n",
            "侍太郎\n"
          ]
        }
      ]
    },
    {
      "cell_type": "code",
      "source": [
        "last_name   = \"侍\"\n",
        "first_name  = \"太郎\"\n",
        "sister_name = \"花子\"\n",
        "\n",
        "# 3つの変数を文字列内に埋め込んで表示\n",
        "print(f\"私の名前は{last_name}{first_name}です。妹の名前は{sister_name}です。\")"
      ],
      "metadata": {
        "colab": {
          "base_uri": "https://localhost:8080/"
        },
        "id": "yjfJDHMj0dQX",
        "outputId": "1710b8ff-b41d-4474-f5cd-9aea91330c5e"
      },
      "execution_count": null,
      "outputs": [
        {
          "output_type": "stream",
          "name": "stdout",
          "text": [
            "私の名前は侍太郎です。妹の名前は花子です。\n"
          ]
        }
      ]
    },
    {
      "cell_type": "code",
      "source": [
        "user_names = [\"いちこ\", \"ふみ\", \"みちこ\", \"よしこ\", \"いくこ\"]\n",
        "print(user_names[1])\n",
        "print(user_names[2:4])\n",
        "print(user_names[:1])\n",
        "\n",
        "user_ages  = [36, 33, 29, 25, 22]"
      ],
      "metadata": {
        "colab": {
          "base_uri": "https://localhost:8080/"
        },
        "id": "vaDKNw9PIiQR",
        "outputId": "2390aa22-57b8-4823-dd25-2b11c279961f"
      },
      "execution_count": null,
      "outputs": [
        {
          "output_type": "stream",
          "name": "stdout",
          "text": [
            "ふみ\n",
            "['みちこ', 'よしこ']\n",
            "['いちこ']\n"
          ]
        }
      ]
    },
    {
      "cell_type": "code",
      "source": [
        "a = (\"かとうゆうま\")\n",
        "print(a[:6])"
      ],
      "metadata": {
        "colab": {
          "base_uri": "https://localhost:8080/"
        },
        "id": "vYKDYfk7HjEk",
        "outputId": "0c951295-ad44-40fc-d2f0-5b0cd0746a6d"
      },
      "execution_count": null,
      "outputs": [
        {
          "output_type": "stream",
          "name": "stdout",
          "text": [
            "かとうゆうま\n"
          ]
        }
      ]
    },
    {
      "cell_type": "code",
      "source": [
        "num1 = 1\n",
        "num2 = 2\n",
        "print(num1 + num2)\n",
        "print(f\"{num1} + {num2}\")"
      ],
      "metadata": {
        "colab": {
          "base_uri": "https://localhost:8080/",
          "height": 193
        },
        "id": "L5aHWvOQTd5w",
        "outputId": "fbd0a951-c444-483b-8106-98f2c490bdb8"
      },
      "execution_count": null,
      "outputs": [
        {
          "output_type": "error",
          "ename": "TypeError",
          "evalue": "'int' object is not callable",
          "traceback": [
            "\u001b[0;31m---------------------------------------------------------------------------\u001b[0m",
            "\u001b[0;31mTypeError\u001b[0m                                 Traceback (most recent call last)",
            "\u001b[0;32m/tmp/ipython-input-1468997365.py\u001b[0m in \u001b[0;36m<cell line: 0>\u001b[0;34m()\u001b[0m\n\u001b[1;32m      1\u001b[0m \u001b[0mnum1\u001b[0m \u001b[0;34m=\u001b[0m \u001b[0;36m1\u001b[0m\u001b[0;34m\u001b[0m\u001b[0;34m\u001b[0m\u001b[0m\n\u001b[1;32m      2\u001b[0m \u001b[0mnum2\u001b[0m \u001b[0;34m=\u001b[0m \u001b[0;36m2\u001b[0m\u001b[0;34m\u001b[0m\u001b[0;34m\u001b[0m\u001b[0m\n\u001b[0;32m----> 3\u001b[0;31m \u001b[0mprint\u001b[0m\u001b[0;34m(\u001b[0m\u001b[0mnum1\u001b[0m \u001b[0;34m+\u001b[0m \u001b[0mnum2\u001b[0m\u001b[0;34m)\u001b[0m\u001b[0;34m\u001b[0m\u001b[0;34m\u001b[0m\u001b[0m\n\u001b[0m\u001b[1;32m      4\u001b[0m \u001b[0mprint\u001b[0m\u001b[0;34m(\u001b[0m\u001b[0;34mf\"{num1} + {num2}\"\u001b[0m\u001b[0;34m)\u001b[0m\u001b[0;34m\u001b[0m\u001b[0;34m\u001b[0m\u001b[0m\n",
            "\u001b[0;31mTypeError\u001b[0m: 'int' object is not callable"
          ]
        }
      ]
    },
    {
      "cell_type": "code",
      "source": [
        "print(\"今日の天気は\"+\"晴れ\")\n",
        "print(\"今日の天気は\"\"曇り\")\n"
      ],
      "metadata": {
        "colab": {
          "base_uri": "https://localhost:8080/"
        },
        "id": "HxFXd0-sdE1x",
        "outputId": "716ec812-5f11-44a4-fe2a-cfa6acda5a20"
      },
      "execution_count": null,
      "outputs": [
        {
          "output_type": "stream",
          "name": "stdout",
          "text": [
            "今日の天気は晴れ\n",
            "今日の天気は曇り\n"
          ]
        }
      ]
    },
    {
      "cell_type": "code",
      "source": [
        "top = 10\n",
        "base = 20\n",
        "print(top + base)"
      ],
      "metadata": {
        "colab": {
          "base_uri": "https://localhost:8080/"
        },
        "id": "cEPWe8Q3vcF6",
        "outputId": "0df4dc3a-54a6-4684-e98c-21abf4f02d2e"
      },
      "execution_count": null,
      "outputs": [
        {
          "output_type": "stream",
          "name": "stdout",
          "text": [
            "30\n"
          ]
        }
      ]
    },
    {
      "cell_type": "code",
      "source": [
        "t = 10\n",
        "b = 20\n",
        "h = 5\n",
        "area = (t + b) * h / 2\n",
        "print(f\"{area}cm^2\")"
      ],
      "metadata": {
        "colab": {
          "base_uri": "https://localhost:8080/"
        },
        "id": "2boBzBXSwFE8",
        "outputId": "c04402d3-a4ff-4b96-bd14-676b309300c4"
      },
      "execution_count": null,
      "outputs": [
        {
          "output_type": "stream",
          "name": "stdout",
          "text": [
            "75.0㎝^2\n"
          ]
        }
      ]
    },
    {
      "cell_type": "code",
      "source": [
        "area = 75.0\n",
        "print(f\"台形の面積: {area} cm^2\")  # ASCII表記\n"
      ],
      "metadata": {
        "colab": {
          "base_uri": "https://localhost:8080/"
        },
        "id": "IC0YEhczzXpC",
        "outputId": "468f17ce-261f-4038-8d74-3e1347a721cd"
      },
      "execution_count": null,
      "outputs": [
        {
          "output_type": "stream",
          "name": "stdout",
          "text": [
            "台形の面積: 75.0 cm^2\n"
          ]
        }
      ]
    },
    {
      "cell_type": "code",
      "source": [
        "curry_list = [\"じゃがいも\", \"にんじん\", \"玉ねぎ\", \"にんにく\", \"豚肉\"]\n",
        "\n",
        "# 6番目にゆで卵を追加する\n",
        "curry_list.append(\"ゆで卵\")\n",
        "print(curry_list)\n",
        "\n",
        "# 2番目のにんじんをズッキーニに書き換える\n",
        "curry_list[1] = \"ズッキーニ\"\n",
        "print(curry_list)\n",
        "#4番目のにんにくを削除する\n",
        "curry_list.pop(3)\n",
        "print(curry_list)\n"
      ],
      "metadata": {
        "colab": {
          "base_uri": "https://localhost:8080/"
        },
        "id": "eiGY9LYglWXd",
        "outputId": "3c94aa5c-e9a8-4908-9466-9de3bce01523"
      },
      "execution_count": null,
      "outputs": [
        {
          "output_type": "stream",
          "name": "stdout",
          "text": [
            "['じゃがいも', 'にんじん', '玉ねぎ', 'にんにく', '豚肉', 'ゆで卵']\n",
            "['じゃがいも', 'ズッキーニ', '玉ねぎ', 'にんにく', '豚肉', 'ゆで卵']\n",
            "['じゃがいも', 'ズッキーニ', '玉ねぎ', '豚肉', 'ゆで卵']\n"
          ]
        }
      ]
    },
    {
      "cell_type": "code",
      "source": [
        "area = 75\n",
        "print(f\"台形の面積:{area} cm\\u00B2\")https://chatgpt.com/?openaicom_referred=true\n",
        "\n"
      ],
      "metadata": {
        "colab": {
          "base_uri": "https://localhost:8080/"
        },
        "id": "UwZ-BRbm09BE",
        "outputId": "c43f6238-a675-487a-ed01-9fb0a8e3679c"
      },
      "execution_count": null,
      "outputs": [
        {
          "output_type": "stream",
          "name": "stdout",
          "text": [
            "台形の面積:75 cm²\n"
          ]
        }
      ]
    },
    {
      "cell_type": "code",
      "source": [
        "top = 10\n",
        "base = 20\n",
        "height = 5\n",
        "area = (top + base) * height / 2\n",
        "print(f\"台形の面積:{area}cm\\u00B2\")"
      ],
      "metadata": {
        "colab": {
          "base_uri": "https://localhost:8080/"
        },
        "id": "Yyj-ymFK2irt",
        "outputId": "b034b482-755c-47d2-ca87-5c415a41d3cd"
      },
      "execution_count": null,
      "outputs": [
        {
          "output_type": "stream",
          "name": "stdout",
          "text": [
            "台形の面積:75.0cm²\n"
          ]
        }
      ]
    },
    {
      "cell_type": "code",
      "source": [
        "country_names = [\"日本\", \"アメリカ\" ,\"イギリス\", \"フランス\" ] # Changed to a list\n",
        "print(country_names[2])\n",
        "print(country_names)\n",
        "#3番目の要素を書き換える\n",
        "country_names[2] = \"ドイツ\"\n",
        "print(country_names) # Added print to show the change"
      ],
      "metadata": {
        "colab": {
          "base_uri": "https://localhost:8080/"
        },
        "id": "GJbjy1duWCQR",
        "outputId": "d5279141-d77f-4bbc-9322-400119e9de72"
      },
      "execution_count": null,
      "outputs": [
        {
          "output_type": "stream",
          "name": "stdout",
          "text": [
            "イギリス\n",
            "['日本', 'アメリカ', 'イギリス', 'フランス']\n",
            "['日本', 'アメリカ', 'ドイツ', 'フランス']\n"
          ]
        }
      ]
    },
    {
      "cell_type": "code",
      "source": [],
      "metadata": {
        "id": "2l1_WsmvYlFL"
      },
      "execution_count": null,
      "outputs": []
    },
    {
      "cell_type": "code",
      "source": [
        "user_names = [\"侍太郎\", \"侍一郎\", \"侍二郎\", \"侍三郎\", \"侍四郎\"]\n",
        "print(user_names[2])"
      ],
      "metadata": {
        "id": "L3RzeOYVbjlw",
        "colab": {
          "base_uri": "https://localhost:8080/"
        },
        "outputId": "206abdc9-9204-4399-94df-1c5a79427e48"
      },
      "execution_count": null,
      "outputs": [
        {
          "output_type": "stream",
          "name": "stdout",
          "text": [
            "侍二郎\n"
          ]
        }
      ]
    },
    {
      "cell_type": "code",
      "source": [
        "country_names = {\"アメリカ\", \"イギリス\", \"日本\", \"フランス\"}\n",
        "#セットの全体を表示\n",
        "print(country_names)"
      ],
      "metadata": {
        "colab": {
          "base_uri": "https://localhost:8080/"
        },
        "id": "yYJS9xYeac5b",
        "outputId": "52626593-9d81-40bf-cb5c-fe5d400eafae"
      },
      "execution_count": null,
      "outputs": [
        {
          "output_type": "stream",
          "name": "stdout",
          "text": [
            "{'日本', 'フランス', 'イギリス', 'アメリカ'}\n"
          ]
        }
      ]
    },
    {
      "cell_type": "code",
      "source": [
        "#1～10までに含まれる素数のセット（2と5が重複）\n",
        "prime_numbers = { 2, 5, 2, 7, 3, 5, 5}\n",
        "#セット全体を表示\n",
        "print(prime_numbers)"
      ],
      "metadata": {
        "colab": {
          "base_uri": "https://localhost:8080/"
        },
        "id": "FuyGLMQocUd2",
        "outputId": "dc774b8c-5597-4c83-f55e-8ec15f907f92"
      },
      "execution_count": null,
      "outputs": [
        {
          "output_type": "stream",
          "name": "stdout",
          "text": [
            "{2, 3, 5, 7}\n"
          ]
        }
      ]
    },
    {
      "cell_type": "code",
      "source": [
        "prime_numbers = { 2, 5, 3, 7}\n",
        "print(prime_numbers)\n",
        "\n",
        "prime_numbers.add(11)\n",
        "print(prime_numbers)\n",
        "\n",
        "prime_numbers.remove(3)\n",
        "print(prime_numbers)"
      ],
      "metadata": {
        "colab": {
          "base_uri": "https://localhost:8080/"
        },
        "id": "i9aDoZzveeDZ",
        "outputId": "76384f49-1551-46e4-828a-d5b6a7d6e106"
      },
      "execution_count": null,
      "outputs": [
        {
          "output_type": "stream",
          "name": "stdout",
          "text": [
            "{2, 3, 5, 7}\n",
            "{2, 3, 5, 7, 11}\n",
            "{2, 5, 7, 11}\n"
          ]
        }
      ]
    },
    {
      "cell_type": "code",
      "source": [
        "coutry_names = {\"アメリカ\", \"イギリス\", \"日本\", \"フランス\"}\n",
        "print(country_names)\n",
        "\n",
        "country_names.add(\"ドイツ\")\n",
        "print(country_names)\n",
        "\n",
        "country_names.remove(\"イギリス\")\n",
        "print(country_names)"
      ],
      "metadata": {
        "colab": {
          "base_uri": "https://localhost:8080/"
        },
        "id": "DBBsgRp_iPMf",
        "outputId": "122053d1-bf34-46bb-e518-b3f314baf95f"
      },
      "execution_count": null,
      "outputs": [
        {
          "output_type": "stream",
          "name": "stdout",
          "text": [
            "{'日本', 'フランス', 'イギリス', 'アメリカ'}\n",
            "{'日本', 'イギリス', 'アメリカ', 'フランス', 'ドイツ'}\n",
            "{'日本', 'アメリカ', 'フランス', 'ドイツ'}\n"
          ]
        }
      ]
    },
    {
      "cell_type": "code",
      "source": [
        "from typing import SupportsBytes\n",
        "sports = {1: \"サッカー\", 2: \"野球\", 3:\"バドミントン\"}\n",
        "print(sports)\n",
        "sports.pop(3)\n",
        "print(sports)\n",
        "sports[3] = \"バスケット\"\n",
        "sports[4] = \"水泳\"\n",
        "print(sports)\n",
        "sports[2] = \"バドミントン\"\n",
        "print(sports)"
      ],
      "metadata": {
        "colab": {
          "base_uri": "https://localhost:8080/"
        },
        "id": "HwtJQmM1IiDG",
        "outputId": "981aa251-dde5-42ee-d4d6-d8d22a7d827f"
      },
      "execution_count": null,
      "outputs": [
        {
          "output_type": "stream",
          "name": "stdout",
          "text": [
            "{1: 'サッカー', 2: '野球', 3: 'バドミントン'}\n",
            "{1: 'サッカー', 2: '野球'}\n",
            "{1: 'サッカー', 2: '野球', 3: 'バスケット', 4: '水泳'}\n",
            "{1: 'サッカー', 2: 'バドミントン', 3: 'バスケット', 4: '水泳'}\n"
          ]
        }
      ]
    },
    {
      "cell_type": "markdown",
      "source": [],
      "metadata": {
        "id": "dZaygGPtOYV4"
      }
    },
    {
      "cell_type": "markdown",
      "source": [],
      "metadata": {
        "id": "9WGtQu0XOcHQ"
      }
    },
    {
      "cell_type": "code",
      "source": [
        "personal_data = {\"name\": \"侍太郎\", \"age\": 36, \"gender\": \"男性\"}\n",
        "print(personal_data[\"name\"])\n",
        "print(personal_data)\n",
        "personal_data[\"age\"] = 37\n",
        "personal_data[\"adress\"] = \"東京都\"\n",
        "print(personal_data)\n",
        "\n"
      ],
      "metadata": {
        "colab": {
          "base_uri": "https://localhost:8080/"
        },
        "id": "nHQUEpW-N4Rl",
        "outputId": "5e0f051c-73dd-4d32-f218-5eb0237987f0"
      },
      "execution_count": null,
      "outputs": [
        {
          "output_type": "stream",
          "name": "stdout",
          "text": [
            "侍太郎\n",
            "{'name': '侍太郎', 'age': 36, 'gender': '男性'}\n",
            "{'name': '侍太郎', 'age': 37, 'gender': '男性', 'adress': '東京都'}\n"
          ]
        }
      ]
    },
    {
      "cell_type": "code",
      "source": [
        "array = [\"月曜日は晴れです\", \"火曜日は雨です\", \"水曜日は晴れです\", \"木曜日は晴れです\", \"金曜日は曇りです\",\n",
        "         \"土曜日は曇りのち雨です\", \"日曜日は雷雨です\"]\n",
        "print(array[2])\n"
      ],
      "metadata": {
        "colab": {
          "base_uri": "https://localhost:8080/"
        },
        "id": "F1-UlUxkN2eb",
        "outputId": "75496c9e-89ca-4cc0-ba19-923bfe8683d5"
      },
      "execution_count": null,
      "outputs": [
        {
          "output_type": "stream",
          "name": "stdout",
          "text": [
            "水曜日は晴れです\n"
          ]
        }
      ]
    },
    {
      "cell_type": "code",
      "source": [
        "dictionary = {\"mon\": \"晴れ\", \"tue\": \"雨\", \"wed\": \"晴れ\", \"thu\":  \"晴れ\", \"fri\": \"曇り\",\n",
        "              \"sat\": \"曇りのち雨\", \"sun\": \"雷雨\"}\n",
        "\n",
        "print(dictionary[\"wed\"])\n"
      ],
      "metadata": {
        "colab": {
          "base_uri": "https://localhost:8080/"
        },
        "id": "MZ-ZfeCrWCJq",
        "outputId": "e4ab7200-1e6d-44be-e9c5-3b87d754a501"
      },
      "execution_count": null,
      "outputs": [
        {
          "output_type": "stream",
          "name": "stdout",
          "text": [
            "晴れ\n"
          ]
        }
      ]
    },
    {
      "cell_type": "code",
      "source": [
        "num = 15\n",
        "\n",
        "# 変数numが10より大きいなら、文字列を出力する\n",
        "if 10 < num:\n",
        "    print(\"変数numは10より大きいです\")\n",
        "\n",
        "# 変数numが20より小さいなら、文字列を出力する\n",
        "if num < 20:\n",
        "    print(\"変数numは20より小さいです\")"
      ],
      "metadata": {
        "colab": {
          "base_uri": "https://localhost:8080/"
        },
        "id": "qf9E44YmtPS_",
        "outputId": "75c69374-f5f3-4cd1-b68d-43f8659762c1"
      },
      "execution_count": null,
      "outputs": [
        {
          "output_type": "stream",
          "name": "stdout",
          "text": [
            "変数numは10より大きいです\n",
            "変数numは20より小さいです\n"
          ]
        }
      ]
    },
    {
      "cell_type": "code",
      "source": [
        "print(45 + 18) # 算術演算子を使った場合の戻り値を出力する\n",
        "print(45 > 18) # 比較演算子を使った場合の戻り値を出力する"
      ],
      "metadata": {
        "colab": {
          "base_uri": "https://localhost:8080/"
        },
        "id": "XNItlrpFuvkq",
        "outputId": "74f70337-91c9-4339-9bf4-e1d70a3285a2"
      },
      "execution_count": null,
      "outputs": [
        {
          "output_type": "stream",
          "name": "stdout",
          "text": [
            "63\n",
            "True\n"
          ]
        }
      ]
    },
    {
      "cell_type": "code",
      "source": [
        "#ランダムな整数を利用するために、randomモジュールをインポート\n",
        "import random\n",
        "\n",
        "# 変数numに0～4までのランダムな整数を代入する\n",
        "num = random.randint(0, 4)\n",
        "\n",
        "# 変数numの値を出力\n",
        "print(num)\n",
        "\n",
        "# 変数numの値が4なら「大当たりです」、それ以外なら「はずれです」と出力する\n",
        "if num == 4:\n",
        "    print(\"大当たりです\")\n",
        "else:\n",
        "    print(\"はずれです\")"
      ],
      "metadata": {
        "colab": {
          "base_uri": "https://localhost:8080/"
        },
        "id": "rW7iY4Thy7ZU",
        "outputId": "eab0d319-9a55-4f51-c812-40d625db19e9"
      },
      "execution_count": null,
      "outputs": [
        {
          "output_type": "stream",
          "name": "stdout",
          "text": [
            "4\n",
            "大当たりです\n"
          ]
        }
      ]
    },
    {
      "cell_type": "code",
      "source": [
        "#ランダムな整数を利用するために、randomモジュールをインポート\n",
        "import random\n",
        "\n",
        "# 変数numに0～4までのランダムな整数を代入する\n",
        "num = random.randint(0, 4)\n",
        "\n",
        "# 変数numの値を出力\n",
        "print(num)\n",
        "\n",
        "# 変数numの値が4なら「大当たりです」、3なら「当たりです」、それ以外なら「はずれです」と出力する\n",
        "if num == 4:\n",
        "    print(\"大当たりです\")\n",
        "elif num == 3:\n",
        "    print(\"当たりです\")\n",
        "elif num == 2:\n",
        "    print(\"中あたりです\")\n",
        "elif num == 1:\n",
        "      print(\"小あたりです\")\n",
        "else:\n",
        "    print(\"はずれです\")"
      ],
      "metadata": {
        "colab": {
          "base_uri": "https://localhost:8080/"
        },
        "id": "2xOc6Qmyz8C2",
        "outputId": "56a9530a-b585-4d77-c1ab-9012886eb62d"
      },
      "execution_count": null,
      "outputs": [
        {
          "output_type": "stream",
          "name": "stdout",
          "text": [
            "4\n",
            "大当たりです\n"
          ]
        }
      ]
    },
    {
      "cell_type": "code",
      "source": [
        "var = 45\n",
        "\n",
        "if var % 3 == 0 and var % 5 == 0:\n",
        "    print(\"FizzBuzz\")\n",
        "elif var % 3 == 0:\n",
        "    print(\"Fizz\")\n",
        "elif var % 5 == 0:\n",
        "    print(\"Buzz\")\n",
        "else:\n",
        "    print(var)"
      ],
      "metadata": {
        "colab": {
          "base_uri": "https://localhost:8080/"
        },
        "id": "l1OvlNzh1A3k",
        "outputId": "36c973f6-4f94-4514-dbe4-e05517a1b3f1"
      },
      "execution_count": 90,
      "outputs": [
        {
          "output_type": "stream",
          "name": "stdout",
          "text": [
            "FizzBuzz\n"
          ]
        }
      ]
    },
    {
      "cell_type": "code",
      "source": [
        "var = 43\n",
        "if var % 3 == 0 and var % 5 == 0:\n",
        "  print(\"FizzBuzz\")\n",
        "elif var % 3 == 0:\n",
        "  print(\"Fizz\")\n",
        "elif var % 5 == 0:\n",
        "  print(\"Buzz\")\n",
        "else:\n",
        "  print(var)"
      ],
      "metadata": {
        "colab": {
          "base_uri": "https://localhost:8080/"
        },
        "id": "RArA9squ9_a-",
        "outputId": "bc83a917-c0a9-4ee0-dc26-8f7cd1364fd2"
      },
      "execution_count": 87,
      "outputs": [
        {
          "output_type": "stream",
          "name": "stdout",
          "text": [
            "43\n"
          ]
        }
      ]
    },
    {
      "cell_type": "code",
      "source": [],
      "metadata": {
        "id": "h6ZEB0HrBS3Z"
      },
      "execution_count": null,
      "outputs": []
    }
  ]
}